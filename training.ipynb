{
 "cells": [
  {
   "cell_type": "markdown",
   "metadata": {},
   "source": [
    "# Hello cả nhà, tớ xin thề, đây sẽ là model cuối cùng của tớ :))))))"
   ]
  },
  {
   "cell_type": "markdown",
   "metadata": {},
   "source": [
    "Import libraries, dependencies"
   ]
  },
  {
   "cell_type": "code",
   "execution_count": 1,
   "metadata": {},
   "outputs": [],
   "source": [
    "import numpy as np\n",
    "np.random.seed(5) \n",
    "import tensorflow as tf\n",
    "tf.random.set_seed(2)\n",
    "import matplotlib.pyplot as plt\n",
    "%matplotlib inline\n",
    "import os\n",
    "import cv2\n",
    "import keras"
   ]
  },
  {
   "cell_type": "markdown",
   "metadata": {},
   "source": [
    "## Loading training dataset"
   ]
  },
  {
   "cell_type": "code",
   "execution_count": 2,
   "metadata": {},
   "outputs": [],
   "source": [
    "train = (r\"G:\\Handsign model\\Dataset\\aslmini\")\n",
    "test = (r\"G:\\Handsign model\\Dataset\\asl7gb\\Test_Alphabet\")"
   ]
  },
  {
   "cell_type": "code",
   "execution_count": 3,
   "metadata": {},
   "outputs": [],
   "source": [
    "def load_images(directory):\n",
    "    images = []\n",
    "    labels = []\n",
    "    for idx, label in enumerate(characters):\n",
    "        for file in os.listdir(directory + \"/\" + label):\n",
    "            filepath = directory + \"/\" + label + \"/\" + file\n",
    "            image = cv2.imread(filepath)\n",
    "            images.append(image)\n",
    "            labels.append(idx)\n",
    "    images = np.array(images)\n",
    "    labels = np.array(labels)\n",
    "    return(images, labels)"
   ]
  },
  {
   "cell_type": "code",
   "execution_count": 4,
   "metadata": {},
   "outputs": [],
   "source": [
    "characters = sorted(os.listdir(train))\n",
    "images, labels = load_images(train)"
   ]
  },
  {
   "cell_type": "code",
   "execution_count": 5,
   "metadata": {},
   "outputs": [
    {
     "data": {
      "text/plain": [
       "(866, 200, 200, 3)"
      ]
     },
     "execution_count": 5,
     "metadata": {},
     "output_type": "execute_result"
    }
   ],
   "source": [
    "images.shape"
   ]
  },
  {
   "cell_type": "markdown",
   "metadata": {},
   "source": [
    "## Image augmentation"
   ]
  },
  {
   "cell_type": "code",
   "execution_count": 6,
   "metadata": {},
   "outputs": [],
   "source": [
    "import albumentations as A"
   ]
  },
  {
   "cell_type": "code",
   "execution_count": 7,
   "metadata": {},
   "outputs": [],
   "source": [
    "transform = A.Compose([\n",
    "    A.RandomCrop(height=100, width=100, p=0.7),\n",
    "    A.RandomBrightnessContrast(brightness_limit=(-0.64, 0.54), contrast_limit=(-0.69, 0.64), p=0.4),\n",
    "    A.Rotate(limit=(-43, 46), interpolation=0, p=0.4),\n",
    "    A.Blur(p=0.3),\n",
    "    # A.Resize(height=200, width=200, p=1)\n",
    "])"
   ]
  },
  {
   "cell_type": "code",
   "execution_count": 8,
   "metadata": {},
   "outputs": [],
   "source": [
    "def image_augmentation(originate):\n",
    "    augmented_image = transform(image=originate)['image']\n",
    "    new_image = np.concatenate((originate, augmented_image))\n",
    "    return new_image"
   ]
  },
  {
   "cell_type": "markdown",
   "metadata": {},
   "source": [
    "x3 image augmentation"
   ]
  },
  {
   "cell_type": "markdown",
   "metadata": {},
   "source": [
    "## Model design"
   ]
  },
  {
   "cell_type": "code",
   "execution_count": 9,
   "metadata": {},
   "outputs": [],
   "source": [
    "from tensorflow.keras.applications import ResNet50\n",
    "from tensorflow.keras.applications import MobileNetV2\n",
    "from keras import layers"
   ]
  },
  {
   "cell_type": "code",
   "execution_count": 10,
   "metadata": {},
   "outputs": [],
   "source": [
    "resnet = ResNet50(\n",
    "    include_top=False, \n",
    "    weights=None, \n",
    "    input_tensor= layers.Input(shape=(200, 200, 3)), \n",
    "    input_shape = (200, 200, 3),\n",
    "    pooling='avg',\n",
    "    )"
   ]
  },
  {
   "cell_type": "code",
   "execution_count": 11,
   "metadata": {},
   "outputs": [],
   "source": [
    "mobilenetv2 = MobileNetV2(\n",
    "    include_top=False,\n",
    "    weights=None, \n",
    "    input_tensor= layers.Input(shape=(200, 200, 3)), \n",
    "    input_shape = (200, 200, 3),\n",
    "    pooling='avg',\n",
    ")"
   ]
  },
  {
   "cell_type": "code",
   "execution_count": 12,
   "metadata": {},
   "outputs": [],
   "source": [
    "image = cv2.imread(\"test.png\")\n",
    "image = cv2.resize(image, (200, 200))\n",
    "image = np.expand_dims(image, axis=0)"
   ]
  },
  {
   "cell_type": "markdown",
   "metadata": {},
   "source": [
    "### live video feed "
   ]
  },
  {
   "cell_type": "code",
   "execution_count": 13,
   "metadata": {},
   "outputs": [],
   "source": [
    "cap = cv2.VideoCapture(0)\n",
    "if not cap.isOpened():\n",
    "    print(\"Unable to open webcam\")\n",
    "    exit()"
   ]
  },
  {
   "cell_type": "code",
   "execution_count": 14,
   "metadata": {},
   "outputs": [],
   "source": [
    "# cap = cv2.VideoCapture(0)\n",
    "# if not cap.isOpened():\n",
    "#     print(\"Camera can not be opened\")\n",
    "# while True:\n",
    "#     ret, frame = cap.read()\n",
    "#     if not ret:\n",
    "#         print(\"video capture failed\")\n",
    "#         break\n",
    "#     image = cv2.resize(frame, (512, 512))\n",
    "#     image = np.expand_dims(image, axis=0)\n",
    "#     result = model.predict(image)\n",
    "#     cv2.imshow(\"CV2 video feed\", frame)\n",
    "#     cv2.imshow(\"CV2 video feed\", frame)\n",
    "#     if cv2.waitKey(1) & 0xFF == ord('q'):\n",
    "#         break\n",
    "# cap.release()\n",
    "# cv2.destroyAllWindows()"
   ]
  },
  {
   "cell_type": "code",
   "execution_count": 15,
   "metadata": {},
   "outputs": [
    {
     "name": "stdout",
     "output_type": "stream",
     "text": [
      "1/1 [==============================] - 2s 2s/step\n"
     ]
    }
   ],
   "source": [
    "result = resnet.predict(image)"
   ]
  },
  {
   "cell_type": "code",
   "execution_count": 16,
   "metadata": {},
   "outputs": [
    {
     "name": "stdout",
     "output_type": "stream",
     "text": [
      "(1, 2048)\n"
     ]
    }
   ],
   "source": [
    "print(result.shape)"
   ]
  },
  {
   "cell_type": "markdown",
   "metadata": {},
   "source": [
    "### Model designing"
   ]
  },
  {
   "cell_type": "code",
   "execution_count": 17,
   "metadata": {},
   "outputs": [],
   "source": [
    "model = keras.Sequential()"
   ]
  },
  {
   "cell_type": "code",
   "execution_count": 18,
   "metadata": {},
   "outputs": [],
   "source": [
    "model.add(resnet)\n",
    "model.add(layers.Dense(64, activation=\"relu\", input_shape=(2048,)))\n",
    "model.add(layers.Dense(29, activation=\"softmax\"))"
   ]
  },
  {
   "cell_type": "code",
   "execution_count": 19,
   "metadata": {},
   "outputs": [],
   "source": [
    "model.compile(optimizer=\"adam\", loss=\"categorical_crossentropy\", metrics=['accuracy'])"
   ]
  },
  {
   "cell_type": "code",
   "execution_count": 20,
   "metadata": {},
   "outputs": [
    {
     "name": "stdout",
     "output_type": "stream",
     "text": [
      "Model: \"sequential\"\n",
      "_________________________________________________________________\n",
      " Layer (type)                Output Shape              Param #   \n",
      "=================================================================\n",
      " resnet50 (Functional)       (None, 2048)              23587712  \n",
      "                                                                 \n",
      " dense (Dense)               (None, 64)                131136    \n",
      "                                                                 \n",
      " dense_1 (Dense)             (None, 29)                1885      \n",
      "                                                                 \n",
      "=================================================================\n",
      "Total params: 23,720,733\n",
      "Trainable params: 23,667,613\n",
      "Non-trainable params: 53,120\n",
      "_________________________________________________________________\n"
     ]
    }
   ],
   "source": [
    "model.summary()"
   ]
  },
  {
   "cell_type": "markdown",
   "metadata": {},
   "source": [
    "## Start training"
   ]
  },
  {
   "cell_type": "code",
   "execution_count": 21,
   "metadata": {},
   "outputs": [],
   "source": [
    "from sklearn.model_selection import train_test_split"
   ]
  },
  {
   "cell_type": "markdown",
   "metadata": {},
   "source": [
    "Split train, test, valid data"
   ]
  },
  {
   "cell_type": "code",
   "execution_count": 22,
   "metadata": {},
   "outputs": [],
   "source": [
    "X_train, X_test, y_train, y_test = train_test_split(images, labels, test_size = 0.1, stratify = labels)"
   ]
  },
  {
   "cell_type": "code",
   "execution_count": 23,
   "metadata": {},
   "outputs": [
    {
     "name": "stdout",
     "output_type": "stream",
     "text": [
      "1/1 [==============================] - 1s 512ms/step\n"
     ]
    }
   ],
   "source": [
    "result = model.predict(np.expand_dims(X_train[0], axis=0))"
   ]
  },
  {
   "cell_type": "code",
   "execution_count": 24,
   "metadata": {},
   "outputs": [
    {
     "data": {
      "text/plain": [
       "(779,)"
      ]
     },
     "execution_count": 24,
     "metadata": {},
     "output_type": "execute_result"
    }
   ],
   "source": [
    "y_train.shape"
   ]
  },
  {
   "cell_type": "code",
   "execution_count": 25,
   "metadata": {},
   "outputs": [
    {
     "name": "stdout",
     "output_type": "stream",
     "text": [
      "Total number of symbols:  29\n",
      "Number of training images:  779\n",
      "Number of testing images:  87\n",
      "Number of evaluation images:  87\n"
     ]
    }
   ],
   "source": [
    "\n",
    "n = len(characters)\n",
    "train_n = len(X_train)\n",
    "test_n = len(X_test)\n",
    "\n",
    "print(\"Total number of symbols: \", n)\n",
    "print(\"Number of training images: \" , train_n)\n",
    "print(\"Number of testing images: \", test_n)\n",
    "\n",
    "eval_n = len(X_test)\n",
    "print(\"Number of evaluation images: \", eval_n)"
   ]
  },
  {
   "cell_type": "markdown",
   "metadata": {},
   "source": [
    "Preprocessing"
   ]
  },
  {
   "cell_type": "code",
   "execution_count": 26,
   "metadata": {},
   "outputs": [],
   "source": [
    "y_train = keras.utils.to_categorical(y_train)\n",
    "y_test = keras.utils.to_categorical(y_test)"
   ]
  },
  {
   "cell_type": "code",
   "execution_count": 27,
   "metadata": {},
   "outputs": [],
   "source": [
    "X_train = X_train.astype('float32')/255.0\n",
    "X_test = X_test.astype('float32')/255.0"
   ]
  },
  {
   "cell_type": "markdown",
   "metadata": {},
   "source": [
    "Training model thôi trời đất ơiiiii"
   ]
  },
  {
   "cell_type": "code",
   "execution_count": 30,
   "metadata": {},
   "outputs": [],
   "source": [
    "from keras.callbacks import ReduceLROnPlateau, EarlyStopping\n",
    "callbacks = [ ReduceLROnPlateau(monitor='loss', patience=2, cooldown=0),\n",
    "              EarlyStopping(monitor='accuracy', min_delta=1e-4, patience=2)]"
   ]
  },
  {
   "cell_type": "code",
   "execution_count": 31,
   "metadata": {},
   "outputs": [
    {
     "name": "stdout",
     "output_type": "stream",
     "text": [
      "Epoch 1/100\n",
      "13/13 [==============================] - 5s 367ms/step - loss: 2.9993 - accuracy: 0.1374 - lr: 0.0010\n",
      "Epoch 2/100\n",
      "13/13 [==============================] - 5s 373ms/step - loss: 2.9016 - accuracy: 0.1348 - lr: 0.0010\n",
      "Epoch 3/100\n",
      "13/13 [==============================] - 5s 370ms/step - loss: 2.8520 - accuracy: 0.1463 - lr: 0.0010\n",
      "Epoch 4/100\n",
      "13/13 [==============================] - 5s 370ms/step - loss: 2.8351 - accuracy: 0.1720 - lr: 0.0010\n",
      "Epoch 5/100\n",
      "13/13 [==============================] - 5s 370ms/step - loss: 2.7758 - accuracy: 0.1425 - lr: 0.0010\n",
      "Epoch 6/100\n",
      "13/13 [==============================] - 5s 370ms/step - loss: 2.6789 - accuracy: 0.1759 - lr: 0.0010\n",
      "Epoch 7/100\n",
      "13/13 [==============================] - 5s 371ms/step - loss: 2.6428 - accuracy: 0.1784 - lr: 0.0010\n",
      "Epoch 8/100\n",
      "13/13 [==============================] - 5s 371ms/step - loss: 2.7141 - accuracy: 0.1772 - lr: 0.0010\n",
      "Epoch 9/100\n",
      "13/13 [==============================] - 5s 371ms/step - loss: 2.6651 - accuracy: 0.1900 - lr: 0.0010\n",
      "Epoch 10/100\n",
      "13/13 [==============================] - 5s 370ms/step - loss: 2.5183 - accuracy: 0.1951 - lr: 1.0000e-04\n",
      "Epoch 11/100\n",
      "13/13 [==============================] - 5s 370ms/step - loss: 2.4171 - accuracy: 0.2246 - lr: 1.0000e-04\n",
      "Epoch 12/100\n",
      "13/13 [==============================] - 5s 371ms/step - loss: 2.3405 - accuracy: 0.2349 - lr: 1.0000e-04\n",
      "Epoch 13/100\n",
      "13/13 [==============================] - 5s 374ms/step - loss: 2.2860 - accuracy: 0.2619 - lr: 1.0000e-04\n",
      "Epoch 14/100\n",
      "13/13 [==============================] - 5s 370ms/step - loss: 2.2078 - accuracy: 0.2593 - lr: 1.0000e-04\n",
      "Epoch 15/100\n",
      "13/13 [==============================] - 5s 370ms/step - loss: 2.1445 - accuracy: 0.2773 - lr: 1.0000e-04\n",
      "Epoch 16/100\n",
      "13/13 [==============================] - 5s 370ms/step - loss: 2.1143 - accuracy: 0.2824 - lr: 1.0000e-04\n",
      "Epoch 17/100\n",
      "13/13 [==============================] - 5s 370ms/step - loss: 2.0253 - accuracy: 0.2978 - lr: 1.0000e-04\n",
      "Epoch 18/100\n",
      "13/13 [==============================] - 5s 371ms/step - loss: 2.0459 - accuracy: 0.2978 - lr: 1.0000e-04\n",
      "Epoch 19/100\n",
      "13/13 [==============================] - 5s 371ms/step - loss: 1.9397 - accuracy: 0.3286 - lr: 1.0000e-04\n",
      "Epoch 20/100\n",
      "13/13 [==============================] - 5s 371ms/step - loss: 1.8843 - accuracy: 0.3415 - lr: 1.0000e-04\n",
      "Epoch 21/100\n",
      "13/13 [==============================] - 5s 371ms/step - loss: 1.8607 - accuracy: 0.3427 - lr: 1.0000e-04\n",
      "Epoch 22/100\n",
      "13/13 [==============================] - 5s 371ms/step - loss: 1.7807 - accuracy: 0.3556 - lr: 1.0000e-04\n",
      "Epoch 23/100\n",
      "13/13 [==============================] - 5s 371ms/step - loss: 1.7234 - accuracy: 0.4005 - lr: 1.0000e-04\n",
      "Epoch 24/100\n",
      "13/13 [==============================] - 5s 371ms/step - loss: 1.7418 - accuracy: 0.3838 - lr: 1.0000e-04\n",
      "Epoch 25/100\n",
      "13/13 [==============================] - 5s 371ms/step - loss: 1.7125 - accuracy: 0.3979 - lr: 1.0000e-04\n"
     ]
    }
   ],
   "source": [
    "hist = model.fit(X_train, y_train, epochs = 100, batch_size = 64,callbacks=callbacks)"
   ]
  }
 ],
 "metadata": {
  "kernelspec": {
   "display_name": "handsign",
   "language": "python",
   "name": "python3"
  },
  "language_info": {
   "codemirror_mode": {
    "name": "ipython",
    "version": 3
   },
   "file_extension": ".py",
   "mimetype": "text/x-python",
   "name": "python",
   "nbconvert_exporter": "python",
   "pygments_lexer": "ipython3",
   "version": "3.9.18"
  }
 },
 "nbformat": 4,
 "nbformat_minor": 2
}
